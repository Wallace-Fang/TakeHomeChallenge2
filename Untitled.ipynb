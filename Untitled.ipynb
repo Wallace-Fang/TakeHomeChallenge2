{
 "cells": [
  {
   "cell_type": "code",
   "execution_count": null,
   "id": "34128a36",
   "metadata": {},
   "outputs": [],
   "source": [
    "import pandas as pd\n",
    "import numpy as np\n",
    "import missingno as msno\n",
    "import matplotlib.pyplot as plt\n",
    "from datetime import date, timedelta "
   ]
  },
  {
   "cell_type": "code",
   "execution_count": null,
   "id": "b53dfe7f",
   "metadata": {
    "scrolled": true
   },
   "outputs": [],
   "source": [
    "user_info_df = pd.read_csv(\"takehome_users.csv\", encoding='latin-1')\n",
    "user_info_df.head()"
   ]
  },
  {
   "cell_type": "code",
   "execution_count": null,
   "id": "e18b9631",
   "metadata": {},
   "outputs": [],
   "source": [
    "user_info_df.rename(columns={'object_id':'user_id'}, inplace=True)"
   ]
  },
  {
   "cell_type": "code",
   "execution_count": null,
   "id": "270482a0",
   "metadata": {},
   "outputs": [],
   "source": [
    "user_info_df.head()"
   ]
  },
  {
   "cell_type": "code",
   "execution_count": null,
   "id": "a69d201c",
   "metadata": {},
   "outputs": [],
   "source": [
    "user_summ_df = pd.read_csv(\"takehome_user_engagement.csv\")\n",
    "user_summ_df.head()"
   ]
  },
  {
   "cell_type": "code",
   "execution_count": null,
   "id": "fcb34b50",
   "metadata": {},
   "outputs": [],
   "source": [
    "user_summ_df.head()"
   ]
  },
  {
   "cell_type": "code",
   "execution_count": null,
   "id": "f4eda3d6",
   "metadata": {},
   "outputs": [],
   "source": [
    "user_df = pd.merge(user_info_df, user_summ_df, on='user_id', how='outer')"
   ]
  },
  {
   "cell_type": "code",
   "execution_count": null,
   "id": "c052211e",
   "metadata": {},
   "outputs": [],
   "source": [
    "user_df.head()"
   ]
  },
  {
   "cell_type": "code",
   "execution_count": null,
   "id": "b908e8bf",
   "metadata": {},
   "outputs": [],
   "source": [
    "user_df.dtypes"
   ]
  },
  {
   "cell_type": "code",
   "execution_count": null,
   "id": "19213c48",
   "metadata": {},
   "outputs": [],
   "source": [
    "user_df['creation_time'] = pd.to_datetime(user_df['creation_time'])\n",
    "user_df['user_id'] = user_df['user_id'].astype('string')\n",
    "user_df['time_stamp'] = pd.to_datetime(user_df['time_stamp'])"
   ]
  },
  {
   "cell_type": "code",
   "execution_count": null,
   "id": "97c52c42",
   "metadata": {},
   "outputs": [],
   "source": [
    "user_df.dtypes"
   ]
  },
  {
   "cell_type": "code",
   "execution_count": null,
   "id": "8f8bc10a",
   "metadata": {},
   "outputs": [],
   "source": [
    "user_df['creation_time'].min()"
   ]
  },
  {
   "cell_type": "code",
   "execution_count": null,
   "id": "ce5a6a7f",
   "metadata": {},
   "outputs": [],
   "source": [
    "user_df['creation_time'].max()"
   ]
  },
  {
   "cell_type": "code",
   "execution_count": null,
   "id": "855a7383",
   "metadata": {},
   "outputs": [],
   "source": [
    "msno.matrix(user_df)"
   ]
  },
  {
   "cell_type": "code",
   "execution_count": null,
   "id": "eff92221",
   "metadata": {},
   "outputs": [],
   "source": [
    "user_df['invited_by_user_id'] = user_df['invited_by_user_id'].fillna(0)\n",
    "user_df['visited'] = user_df['visited'].fillna(0)\n",
    "user_df['last_session_creation_time'] = user_df['last_session_creation_time'].fillna(0)"
   ]
  },
  {
   "cell_type": "code",
   "execution_count": null,
   "id": "8e92d94c",
   "metadata": {
    "scrolled": true
   },
   "outputs": [],
   "source": [
    "msno.matrix(user_df)"
   ]
  },
  {
   "cell_type": "code",
   "execution_count": null,
   "id": "ad103c65",
   "metadata": {},
   "outputs": [],
   "source": [
    "total_visit = user_df['user_id'].value_counts().reset_index()\n",
    "total_visit.columns = ['user_id', 'total_visits']"
   ]
  },
  {
   "cell_type": "code",
   "execution_count": null,
   "id": "619a326a",
   "metadata": {},
   "outputs": [],
   "source": [
    "total_visit"
   ]
  },
  {
   "cell_type": "code",
   "execution_count": null,
   "id": "faf36e81",
   "metadata": {},
   "outputs": [],
   "source": [
    "total_visit['user_id'] = total_visit['user_id'].astype(object)\n",
    "user_df['user_id'] = user_df['user_id'].astype(object)"
   ]
  },
  {
   "cell_type": "code",
   "execution_count": null,
   "id": "87803e17",
   "metadata": {},
   "outputs": [],
   "source": [
    "total_visit.dtypes"
   ]
  },
  {
   "cell_type": "code",
   "execution_count": null,
   "id": "e1ccea3a",
   "metadata": {},
   "outputs": [],
   "source": [
    "user_df.dtypes"
   ]
  },
  {
   "cell_type": "code",
   "execution_count": null,
   "id": "2404edbd",
   "metadata": {},
   "outputs": [],
   "source": [
    "user_df = user_df.merge(total_visit, on='user_id', how='left')"
   ]
  },
  {
   "cell_type": "code",
   "execution_count": null,
   "id": "ceac3c57",
   "metadata": {
    "scrolled": true
   },
   "outputs": [],
   "source": [
    "user_df.head()"
   ]
  },
  {
   "cell_type": "code",
   "execution_count": null,
   "id": "2ffe5072",
   "metadata": {},
   "outputs": [],
   "source": [
    "user_df.shape"
   ]
  },
  {
   "cell_type": "code",
   "execution_count": null,
   "id": "26d2749a",
   "metadata": {},
   "outputs": [],
   "source": [
    "user_df = user_df[user_df['total_visits'] >= 3]"
   ]
  },
  {
   "cell_type": "code",
   "execution_count": null,
   "id": "73575f4a",
   "metadata": {
    "scrolled": false
   },
   "outputs": [],
   "source": [
    "user_df.head()"
   ]
  },
  {
   "cell_type": "code",
   "execution_count": null,
   "id": "e057b684",
   "metadata": {},
   "outputs": [],
   "source": [
    "user_df = user_df.drop_duplicates()"
   ]
  },
  {
   "cell_type": "code",
   "execution_count": null,
   "id": "0c2f3c74",
   "metadata": {},
   "outputs": [],
   "source": [
    "user_df.shape"
   ]
  },
  {
   "cell_type": "code",
   "execution_count": null,
   "id": "a4675a33",
   "metadata": {},
   "outputs": [],
   "source": [
    "user_df['user_id'].value_counts()"
   ]
  },
  {
   "cell_type": "code",
   "execution_count": null,
   "id": "129a124a",
   "metadata": {},
   "outputs": [],
   "source": [
    "user_df['time_of_visit']=(pd.to_datetime(user_df['creation_time'],unit='s'))"
   ]
  },
  {
   "cell_type": "code",
   "execution_count": null,
   "id": "994bbe1b",
   "metadata": {
    "scrolled": false
   },
   "outputs": [],
   "source": [
    "user_df.head()"
   ]
  },
  {
   "cell_type": "code",
   "execution_count": null,
   "id": "d017b2aa",
   "metadata": {},
   "outputs": [],
   "source": [
    "empty_user_df = pd.DataFrame()\n",
    "\n",
    "for i in user_df['user_id'].unique():\n",
    "    batch_user = user_df[user_df['user_id'] == i]\n",
    "    for j in batch_user['time_stamp']:\n",
    "        current_date = j\n",
    "        week_next = current_date + timedelta(weeks=1)\n",
    "        login_dates = (batch_user['time_stamp'] >= current_date) & (batch_user['time_stamp'] <= week_next)\n",
    "        empty_user_df = empty_user_df.append(batch_user.loc[login_dates])\n",
    "        \n",
    "\n",
    "    "
   ]
  },
  {
   "cell_type": "code",
   "execution_count": null,
   "id": "4e067f90",
   "metadata": {},
   "outputs": [],
   "source": []
  },
  {
   "cell_type": "code",
   "execution_count": null,
   "id": "bbcc2701",
   "metadata": {},
   "outputs": [],
   "source": []
  }
 ],
 "metadata": {
  "kernelspec": {
   "display_name": "Python 3 (ipykernel)",
   "language": "python",
   "name": "python3"
  },
  "language_info": {
   "codemirror_mode": {
    "name": "ipython",
    "version": 3
   },
   "file_extension": ".py",
   "mimetype": "text/x-python",
   "name": "python",
   "nbconvert_exporter": "python",
   "pygments_lexer": "ipython3",
   "version": "3.11.4"
  }
 },
 "nbformat": 4,
 "nbformat_minor": 5
}
